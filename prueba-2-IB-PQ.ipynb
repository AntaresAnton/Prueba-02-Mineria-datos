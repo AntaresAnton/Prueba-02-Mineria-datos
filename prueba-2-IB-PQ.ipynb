{
 "cells": [
  {
   "cell_type": "markdown",
   "metadata": {},
   "source": [
    "# 1. Selección de API y Definición del Problema\n",
    "\n",
    "## API Seleccionada\n",
    "- **Nombre**: Disease.sh API\n",
    "- **Endpoint**: `https://disease.sh/v3/covid-19/countries`\n",
    "- **Tipo de datos**: Estadísticas COVID-19 por país\n"
   ]
  },
  {
   "cell_type": "markdown",
   "metadata": {},
   "source": [
    "## Problema de Negocio\n",
    "El objetivo principal es desarrollar un sistema predictivo para anticipar brotes de COVID-19 en diferentes regiones geográficas, permitiendo a los sistemas de salud prepararse adecuadamente.\n"
   ]
  },
  {
   "cell_type": "code",
   "execution_count": null,
   "metadata": {},
   "outputs": [],
   "source": [
    "# Librerías para manipulación y análisis de datos\n",
    "import pandas as pd\n",
    "import numpy as np\n",
    "\n",
    "# Análisis estadístico\n",
    "from scipy import stats\n",
    "\n",
    "# Librerías de visualización\n",
    "import seaborn as sns\n",
    "import matplotlib.pyplot as plt\n",
    "from sklearn.tree import plot_tree\n",
    "\n",
    "# Peticiones API\n",
    "import requests\n",
    "\n",
    "# Configuración del estilo de visualización\n",
    "sns.set_style(\"whitegrid\")\n",
    "plt.style.use('seaborn')\n"
   ]
  }
 ],
 "metadata": {
  "language_info": {
   "name": "python"
  }
 },
 "nbformat": 4,
 "nbformat_minor": 2
}
