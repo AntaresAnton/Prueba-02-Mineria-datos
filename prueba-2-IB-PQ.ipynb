{
 "cells": [
  {
   "cell_type": "markdown",
   "metadata": {},
   "source": [
    "# 1. Selección de API y Definición del Problema\n",
    "\n",
    "## API Seleccionada\n",
    "- **Nombre**: Disease.sh API\n",
    "- **Endpoint**: `https://disease.sh/v3/covid-19/countries`\n",
    "- **Tipo de datos**: Estadísticas COVID-19 por país\n"
   ]
  },
  {
   "cell_type": "markdown",
   "metadata": {},
   "source": [
    "## Problema de Negocio\n",
    "El objetivo principal es desarrollar un sistema predictivo para anticipar brotes de COVID-19 en diferentes regiones geográficas, permitiendo a los sistemas de salud prepararse adecuadamente.\n"
   ]
  }
 ],
 "metadata": {
  "language_info": {
   "name": "python"
  }
 },
 "nbformat": 4,
 "nbformat_minor": 2
}
